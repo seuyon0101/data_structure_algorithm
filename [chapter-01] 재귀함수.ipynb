{
 "cells": [
  {
   "cell_type": "markdown",
   "id": "70b8578a",
   "metadata": {},
   "source": [
    "## 1.1 재귀함수로 factorial 구현하기"
   ]
  },
  {
   "cell_type": "code",
   "execution_count": 1,
   "id": "bcef02d3",
   "metadata": {},
   "outputs": [],
   "source": [
    "def factorial(n):\n",
    "    #base : stops when n equals 0 or else\n",
    "    if n < = 0 :\n",
    "        return 1\n",
    "    else :\n",
    "        return factorial(n - 1) * n"
   ]
  },
  {
   "cell_type": "code",
   "execution_count": 13,
   "id": "71c51e93",
   "metadata": {},
   "outputs": [
    {
     "name": "stdout",
     "output_type": "stream",
     "text": [
      "### factorial of 1 : \n",
      "         1\n",
      "### factorial of 2 : \n",
      "         2\n",
      "### factorial of 3 : \n",
      "         6\n",
      "### factorial of 4 : \n",
      "        24\n",
      "### factorial of 5 : \n",
      "       120\n"
     ]
    }
   ],
   "source": [
    "for i in range(1,5+1):\n",
    "    print(f'### factorial of {i} : ')\n",
    "    print(str(factorial(i)).rjust(10))"
   ]
  },
  {
   "cell_type": "markdown",
   "id": "480ffe7f",
   "metadata": {},
   "source": [
    "## 1.2 순열을 재귀 함수로 구현하기"
   ]
  },
  {
   "cell_type": "code",
   "execution_count": 14,
   "id": "6c9836a1",
   "metadata": {},
   "outputs": [],
   "source": [
    "def permutation(arr, start) :\n",
    "    #base : stops when start equals len of arr\n",
    "    if len(arr) - 1 == start :\n",
    "        print(arr)\n",
    "        return\n",
    "    for i in range(start, len(arr)) :\n",
    "        arr[start], arr[i] = arr[i], arr[start]\n",
    "        permutation(arr, start+1)\n",
    "        arr[start], arr[i] = arr[i], arr[start]"
   ]
  },
  {
   "cell_type": "code",
   "execution_count": 18,
   "id": "f566a65a",
   "metadata": {},
   "outputs": [
    {
     "name": "stdout",
     "output_type": "stream",
     "text": [
      "[1, 2, 3]\n",
      "[1, 3, 2]\n",
      "[2, 1, 3]\n",
      "[2, 3, 1]\n",
      "[3, 2, 1]\n",
      "[3, 1, 2]\n"
     ]
    }
   ],
   "source": [
    "permutation([1,2,3], 0)"
   ]
  }
 ],
 "metadata": {
  "kernelspec": {
   "display_name": "Python 3 (ipykernel)",
   "language": "python",
   "name": "python3"
  },
  "language_info": {
   "codemirror_mode": {
    "name": "ipython",
    "version": 3
   },
   "file_extension": ".py",
   "mimetype": "text/x-python",
   "name": "python",
   "nbconvert_exporter": "python",
   "pygments_lexer": "ipython3",
   "version": "3.10.8"
  }
 },
 "nbformat": 4,
 "nbformat_minor": 5
}
